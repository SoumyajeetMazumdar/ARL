{
 "cells": [
  {
   "cell_type": "code",
   "execution_count": 99,
   "id": "f341814b",
   "metadata": {},
   "outputs": [],
   "source": [
    "import numpy as np\n",
    "from matplotlib import pyplot as plt\n",
    "from pathlib import Path\n",
    "import os\n",
    "import pandas as pd"
   ]
  },
  {
   "cell_type": "markdown",
   "id": "807e877f",
   "metadata": {},
   "source": [
    "Reading all of the file names inside the folder with the CSV files with spectrometer data."
   ]
  },
  {
   "cell_type": "code",
   "execution_count": 100,
   "id": "67b72bad",
   "metadata": {},
   "outputs": [],
   "source": [
    "from pathlib import Path\n",
    "\n",
    "# 1. Point this at your folder\n",
    "folder = Path(\"/home/soumyajeet/Developer/ARL/PLS/ARL2025/pl/pl-csv\")\n",
    "\n",
    "# 2. Gather all files (non‐recursive)\n",
    "file_paths = [str(p) for p in folder.iterdir() if p.is_file()]\n",
    "\n",
    "# 3. Inspect\n",
    "# file_paths\n"
   ]
  },
  {
   "cell_type": "markdown",
   "id": "c7aa25c8",
   "metadata": {},
   "source": [
    "Plotting and exporting the graphs into the folder in the csv parent directory."
   ]
  },
  {
   "cell_type": "code",
   "execution_count": null,
   "id": "03d4c68e",
   "metadata": {},
   "outputs": [],
   "source": [
    "\n",
    "def plot_and_export_file(file_path, plot_title, output_dir):\n",
    "    \"\"\" function to take the filepath, extract into pd.df, plot it, and export the plot into a given output_file_path\n",
    "    Args:\n",
    "        file_path (_type_): this is the actual CSV file to plot\n",
    "        plot_title (_type_): title on the plot image exported\n",
    "        output_dir (_type_): folder in which the export in saved\n",
    "    \"\"\"\n",
    "\n",
    "    # read the file\n",
    "    df = pd.read_csv(file_path, sep=\"\\t\")\n",
    "    \n",
    "    # Plot the data\n",
    "    plt.figure(figsize=(10,8))\n",
    "    plt.plot(df['Wavelength'], df['Intensity'])\n",
    "    plt.xlabel('Photon Energy (eV)')\n",
    "    plt.ylabel('Intensity (counts)')\n",
    "    plt.grid(True)\n",
    "    plt.ylim(0, 18000)\n",
    "    plt.title(f\"Plot: {plot_title}\")\n",
    "    \n",
    "    # Export the file\n",
    "    file_path = file_path[53:-24] # truncating the date and the directory path from the aboslute path string\n",
    "    out_path = os.path.join(output_dir, f\"plot_{plot_title}.png\")\n",
    "    plt.savefig(out_path)\n",
    "    plt.close()\n",
    "    \n",
    "    print(f\"Save succesful : {file_path}\")"
   ]
  },
  {
   "cell_type": "code",
   "execution_count": 102,
   "id": "8fc042a8",
   "metadata": {},
   "outputs": [
    {
     "name": "stdout",
     "output_type": "stream",
     "text": [
      "Save succesful : power900uw\n",
      "Save succesful : power600uw\n",
      "Save succesful : power1500uw\n",
      "Save succesful : WS2-unknown-power100uw-1s (unknown+WS2)\n",
      "Save succesful : WS2-unknown-power100uw-20s (unknown)\n",
      "Save succesful : power100uw-20s-trilayer\n",
      "Save succesful : WS2-unknown-power100uw-1s (unknown)\n",
      "Save succesful : power1000uw\n",
      "Save succesful : power100uw-20s-multilayer\n",
      "Save succesful : power100uw\n",
      "Save succesful : power800uw\n",
      "Save succesful : power100uw-20s-bilayer\n",
      "Save succesful : WS2-unknown-power100uw-10s (unknown)\n",
      "Save succesful : power1250uw\n",
      "Save succesful : power2000uw\n",
      "Save succesful : power100uw-20s\n",
      "Save succesful : power700uw\n",
      "Save succesful : WS2-unknown-power100uw-1s\n",
      "Save succesful : power100uw-20s-bilayer\n",
      "Save succesful : power100uw-10s\n"
     ]
    }
   ],
   "source": [
    "# 1. Set your absolute output folder here:\n",
    "OUTPUT_DIR = \"/home/soumyajeet/Developer/ARL/PLS/ARL2025/pl/pl-plots\"\n",
    "os.makedirs(OUTPUT_DIR, exist_ok=True)\n",
    "\n",
    "\n",
    "for file in file_paths:\n",
    "    plot_and_export_file(file_path=file, plot_title=file[53:-24], output_dir=OUTPUT_DIR)"
   ]
  }
 ],
 "metadata": {
  "kernelspec": {
   "display_name": "computational",
   "language": "python",
   "name": "python3"
  },
  "language_info": {
   "codemirror_mode": {
    "name": "ipython",
    "version": 3
   },
   "file_extension": ".py",
   "mimetype": "text/x-python",
   "name": "python",
   "nbconvert_exporter": "python",
   "pygments_lexer": "ipython3",
   "version": "3.12.7"
  }
 },
 "nbformat": 4,
 "nbformat_minor": 5
}
